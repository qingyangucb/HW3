{
 "cells": [
  {
   "cell_type": "code",
   "execution_count": 5,
   "metadata": {},
   "outputs": [],
   "source": [
    "import os\n",
    "import csv"
   ]
  },
  {
   "cell_type": "code",
   "execution_count": 6,
   "metadata": {},
   "outputs": [],
   "source": [
    "csv_path=os.path.join('..','..','Pypoll','Resources','election_data.csv')\n",
    "with open(csv_path, newline='') as csv_handler:\n",
    "    csv_reader=csv.reader(csv_handler, delimiter=',')\n",
    "    csv_header=next(csv_reader)\n",
    "    candidate=[]\n",
    "    unique=[]\n",
    "    \n",
    "    for row in csv_reader:\n",
    "        candidate.append(row[2])\n",
    "        \n",
    "    for name in candidate:\n",
    "        if name not in unique:\n",
    "            unique.append(name)\n",
    "\n",
    "         \n",
    "length_1=len(unique)\n",
    "count=[0] *length_1  \n",
    "length_2=len(candidate)\n",
    "\n",
    "for i in range(length_1):\n",
    "    for j in range(length_2):\n",
    "        if unique[i]==candidate[j]:\n",
    "            count[i]+=1\n",
    "#print(unique)            \n",
    "#print(count)   \n",
    "\n",
    "\n",
    "        "
   ]
  },
  {
   "cell_type": "code",
   "execution_count": 7,
   "metadata": {},
   "outputs": [
    {
     "name": "stdout",
     "output_type": "stream",
     "text": [
      "Khan: 63.0% (2218231)\n",
      "\n",
      "Correy: 20.0% (704200)\n",
      "\n",
      "Li: 14.0% (492940)\n",
      "\n",
      "O'Tooley: 3.0% (105630)\n",
      "\n",
      "Winner: Khan\n"
     ]
    }
   ],
   "source": [
    "#print(count)   \n",
    "total_vote=sum(count)\n",
    "#print(total_vote)\n",
    "percent=[round(x/total_vote*100,4) for x in count]\n",
    "# for x in percent:\n",
    "#     print(str(x)+\"%\")\n",
    "\n",
    "max_val=max(count)\n",
    "max_index=count.index(max_val)\n",
    "winner=unique[max_index]\n",
    "length=len(count)\n",
    "string=[]\n",
    "for i in range(0, length):\n",
    "    max_val=max(count)\n",
    "    max_index=count.index(max_val)\n",
    "    string.append(f'{unique.pop(max_index)}: {percent.pop(max_index)}% ({count.pop(max_index)})\\n')\n",
    "  \n",
    "   \n",
    "string.append(f'Winner: {winner}')\n",
    "for x in string:\n",
    "    print(x)"
   ]
  },
  {
   "cell_type": "code",
   "execution_count": 8,
   "metadata": {},
   "outputs": [],
   "source": [
    "text_file=open(\"output.txt\",\"w\")\n",
    "text_file.writelines(string)"
   ]
  }
 ],
 "metadata": {
  "kernelspec": {
   "display_name": "Python 3",
   "language": "python",
   "name": "python3"
  },
  "language_info": {
   "codemirror_mode": {
    "name": "ipython",
    "version": 3
   },
   "file_extension": ".py",
   "mimetype": "text/x-python",
   "name": "python",
   "nbconvert_exporter": "python",
   "pygments_lexer": "ipython3",
   "version": "3.7.3"
  }
 },
 "nbformat": 4,
 "nbformat_minor": 2
}
