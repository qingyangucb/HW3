{
 "cells": [
  {
   "cell_type": "code",
   "execution_count": 2,
   "metadata": {},
   "outputs": [],
   "source": [
    "import os\n",
    "import csv"
   ]
  },
  {
   "cell_type": "code",
   "execution_count": 3,
   "metadata": {
    "scrolled": true
   },
   "outputs": [],
   "source": [
    "csv_path=os.path.join('..','..','Pybank','Resources','budget_data.csv')\n",
    "month_counter=0\n",
    "total_change=0.0    \n",
    "all_change=[]\n",
    "all_month=[]\n",
    "\n",
    "with open(csv_path, newline='') as csv_handler:\n",
    "    csv_reader=csv.reader(csv_handler, delimiter=',')\n",
    "    csv_header=next(csv_reader)\n",
    "    change=0\n",
    "\n",
    "    for row in csv_reader:\n",
    "        month_counter+=1\n",
    "        total_change+=int(row[1])        \n",
    "        next_row=next(csv_reader)\n",
    "        month_1=row[0]\n",
    "        month_2=next_row[0]\n",
    "        monthly_change=int(next_row[1])-int(row[1])\n",
    "        change+=monthly_change\n",
    "        average_change=change/(month_counter*2)\n",
    "        all_change.append(monthly_change)\n",
    "        all_month.append(month_1)\n",
    "        all_month.append(month_2)\n",
    "        \n",
    "    month_counter=month_counter*2\n",
    "    max_change=max(all_change)\n",
    "    min_change=min(all_change)\n",
    "    #print(min_change)\n",
    "    #print(all_month)\n",
    "    max_index=all_change.index(max_change)\n",
    "    min_index=all_change.index(min_change)\n",
    "    max_month=all_month[max_index]\n",
    "    min_month=all_month[min_index]\n",
    "    #print(['try this ' +str(month_counter))\n",
    "        \n"
   ]
  },
  {
   "cell_type": "code",
   "execution_count": 4,
   "metadata": {},
   "outputs": [
    {
     "name": "stdout",
     "output_type": "stream",
     "text": [
      "Total Month: 86\n",
      "Total Change: 17107418.0\n",
      "Average Change: 48462\n",
      "Max Change: 1926159 on Jan-11\n",
      "Min Change: -1750387 on Jan-13\n",
      "Total Month: 86\n",
      " Total Change: 17107418.0\n",
      " Average Change: 48462\n",
      "Max Change: 1926159 on Jan-11\n",
      "Min Change: -1750387 on Jan-13\n"
     ]
    }
   ],
   "source": [
    "print(f'Total Month: {month_counter}')\n",
    "print(f'Total Change: {total_change}')\n",
    "print(f'Average Change: {round(average_change)}')\n",
    "print(f'Max Change: {max_change} on {max_month}')\n",
    "print(f'Min Change: {min_change} on {min_month}')\n",
    "text_string= (\n",
    "f\"Total Months : {month_counter} \\n\"\n",
    "f\" Total Change: {total_change}\\n\"\n",
    "f\" Average Change: {round(average_change)}\\n\"\n",
    "f\" Max Change: {max_change} on {max_month}\\n\"\n",
    "f\" Min Change: {min_change} on {min_month}\\n \"\n",
    ")\n",
    "#text_string=f'Total Month: {month_counter}\\n Total Change: {total_change}\\n Average Change: {round(average_change)}\\nMax Change: {max_change} on {max_month}\\nMin Change: {min_change} on {min_month}'\n",
    "print(text_string)\n",
    "text_file=open(\"output.txt\",\"w\")\n",
    "text_file.writelines(text_string)"
   ]
  },
  {
   "cell_type": "code",
   "execution_count": null,
   "metadata": {},
   "outputs": [],
   "source": []
  }
 ],
 "metadata": {
  "kernelspec": {
   "display_name": "Python 3",
   "language": "python",
   "name": "python3"
  },
  "language_info": {
   "codemirror_mode": {
    "name": "ipython",
    "version": 3
   },
   "file_extension": ".py",
   "mimetype": "text/x-python",
   "name": "python",
   "nbconvert_exporter": "python",
   "pygments_lexer": "ipython3",
   "version": "3.7.3"
  }
 },
 "nbformat": 4,
 "nbformat_minor": 2
}
