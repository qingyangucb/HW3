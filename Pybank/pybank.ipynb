{
 "cells": [
  {
   "cell_type": "code",
   "execution_count": 10,
   "metadata": {},
   "outputs": [],
   "source": [
    "import os\n",
    "import csv"
   ]
  },
  {
   "cell_type": "code",
   "execution_count": 11,
   "metadata": {
    "scrolled": true
   },
   "outputs": [
    {
     "name": "stdout",
     "output_type": "stream",
     "text": [
      "[867884.0, 116771, -662642, -391430, 379920, 212354, 510239, -428211, -821271, 693918, 416278, -974163, 860159, -1115009, 1033048, 95318, -308093, 99052, -521393, 605450, 231727, -65187, -702716, 177975, -1065544, 1926159, -917805, 898730, -334262, -246499, -64055, -1529236, 1497596, 304914, -635801, 398319, -183161, -37864, -253689, 403655, 94168, 306877, -83000, 210462, -2196167, 1465222, -956983, 1838447, -468003, -64602, 206242, -242155, -449079, 315198, 241099, 111540, 365942, -219310, -368665, 409837, 151210, -110244, -341938, -1212159, 683246, -70825, 335594, 417334, -272194, -236462, 657432, -211262, -128237, -1750387, 925441, 932089, -311434, 267252, -1876758, 1733696, 198551, -665765, 693229, -734926, 77242, 532869]\n"
     ]
    }
   ],
   "source": [
    "csv_path=os.path.join('..','..','Pybank','Resources','budget_data.csv')\n",
    "month_counter=0\n",
    "total_change=0.0    \n",
    "all_change=[]\n",
    "all_month=[]\n",
    "last_line=0.0\n",
    "\n",
    "with open(csv_path, newline='') as csv_handler:\n",
    "    csv_reader=csv.reader(csv_handler, delimiter=',')\n",
    "    csv_header=next(csv_reader)\n",
    "    change=0\n",
    "\n",
    "    for row in csv_reader:\n",
    "        month_counter+=1\n",
    "        total_change+=int(row[1])        \n",
    "        monthly_change=int(row[1])-last_line\n",
    "        change+=monthly_change\n",
    "        average_change=change/(month_counter*2)\n",
    "        all_change.append(monthly_change)\n",
    "        all_month.append(row[0])\n",
    "        last_line=int(row[1])\n",
    "        \n",
    "        \n",
    "    month_counter=month_counter\n",
    "    max_change=max(all_change)\n",
    "    min_change=min(all_change)\n",
    "    print(all_change)\n",
    "    #print(all_month)\n",
    "    max_index=all_change.index(max_change)\n",
    "    min_index=all_change.index(min_change)\n",
    "    max_month=all_month[max_index]\n",
    "    min_month=all_month[min_index]\n",
    "    #print(['try this ' +str(month_counter))\n",
    "    #-2196someting for min_change\n",
    "    #print(len(all_change))\n",
    "        \n"
   ]
  },
  {
   "cell_type": "code",
   "execution_count": 12,
   "metadata": {},
   "outputs": [
    {
     "name": "stdout",
     "output_type": "stream",
     "text": [
      "Total Month: 86\n",
      "Total Change: 38382578.0\n",
      "Average Change: 3902\n",
      "Max Change: 1926159 on Feb-12\n",
      "Min Change: -2196167 on Sep-13\n",
      "Total Months : 86 \n",
      "Total Change: 38382578.0\n",
      "Average Change: 3902\n",
      "Max Change: 1926159 on Feb-12\n",
      "Min Change: -2196167 on Sep-13\n",
      "\n"
     ]
    }
   ],
   "source": [
    "print(f'Total Month: {month_counter}')\n",
    "print(f'Total Change: {total_change}')\n",
    "print(f'Average Change: {round(average_change)}')\n",
    "print(f'Max Change: {max_change} on {max_month}')\n",
    "print(f'Min Change: {min_change} on {min_month}')\n",
    "text_string= (\n",
    "f\"Total Months : {month_counter} \\n\"\n",
    "f\"Total Change: {total_change}\\n\"\n",
    "f\"Average Change: {round(average_change)}\\n\"\n",
    "f\"Max Change: {max_change} on {max_month}\\n\"\n",
    "f\"Min Change: {min_change} on {min_month}\\n\"\n",
    ")\n",
    "#text_string=f'Total Month: {month_counter}\\n Total Change: {total_change}\\n Average Change: {round(average_change)}\\nMax Change: {max_change} on {max_month}\\nMin Change: {min_change} on {min_month}'\n",
    "print(text_string)\n",
    "text_file=open(\"output.txt\",\"w\")\n",
    "text_file.writelines(text_string)"
   ]
  },
  {
   "cell_type": "code",
   "execution_count": null,
   "metadata": {},
   "outputs": [],
   "source": []
  }
 ],
 "metadata": {
  "kernelspec": {
   "display_name": "Python 3",
   "language": "python",
   "name": "python3"
  },
  "language_info": {
   "codemirror_mode": {
    "name": "ipython",
    "version": 3
   },
   "file_extension": ".py",
   "mimetype": "text/x-python",
   "name": "python",
   "nbconvert_exporter": "python",
   "pygments_lexer": "ipython3",
   "version": "3.7.3"
  }
 },
 "nbformat": 4,
 "nbformat_minor": 2
}
